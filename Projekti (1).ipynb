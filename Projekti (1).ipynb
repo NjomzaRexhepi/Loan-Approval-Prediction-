{
 "cells": [
  {
   "cell_type": "code",
   "execution_count": 1,
   "id": "2ab3a17f",
   "metadata": {},
   "outputs": [],
   "source": [
    "import pandas as pd \n",
    "import numpy as np \n",
    "import matplotlib.pyplot as plt \n",
    "import seaborn as sns \n",
    "from sklearn import svm \n",
    "from sklearn.model_selection import train_test_split\n",
    "from sklearn.preprocessing import LabelEncoder\n",
    "from sklearn.preprocessing import StandardScaler"
   ]
  },
  {
   "cell_type": "code",
   "execution_count": 2,
   "id": "7126ce3f",
   "metadata": {},
   "outputs": [
    {
     "name": "stderr",
     "output_type": "stream",
     "text": [
      "/home/attributy-njomza/anaconda3/lib/python3.9/site-packages/IPython/core/interactiveshell.py:3444: DtypeWarning: Columns (20) have mixed types.Specify dtype option on import or set low_memory=False.\n",
      "  exec(code_obj, self.user_global_ns, self.user_ns)\n"
     ]
    },
    {
     "data": {
      "text/html": [
       "<div>\n",
       "<style scoped>\n",
       "    .dataframe tbody tr th:only-of-type {\n",
       "        vertical-align: middle;\n",
       "    }\n",
       "\n",
       "    .dataframe tbody tr th {\n",
       "        vertical-align: top;\n",
       "    }\n",
       "\n",
       "    .dataframe thead th {\n",
       "        text-align: right;\n",
       "    }\n",
       "</style>\n",
       "<table border=\"1\" class=\"dataframe\">\n",
       "  <thead>\n",
       "    <tr style=\"text-align: right;\">\n",
       "      <th></th>\n",
       "      <th>LoanID</th>\n",
       "      <th>ApplicantID</th>\n",
       "      <th>ApplicantGender</th>\n",
       "      <th>ApplicantMarried</th>\n",
       "      <th>ApplicantDependents</th>\n",
       "      <th>ApplicantEducation</th>\n",
       "      <th>ApplicantSelfEmployed</th>\n",
       "      <th>ApplicantIncome</th>\n",
       "      <th>ApplicantCreditHistory</th>\n",
       "      <th>ApplicantZIP</th>\n",
       "      <th>...</th>\n",
       "      <th>ApplicantEmplLength</th>\n",
       "      <th>ApplicantHomeOwn</th>\n",
       "      <th>LoanAmount</th>\n",
       "      <th>LoanTerm</th>\n",
       "      <th>LoanIntRate</th>\n",
       "      <th>LoanDesc</th>\n",
       "      <th>LoanPurpose</th>\n",
       "      <th>LoanApproved</th>\n",
       "      <th>Unnamed: 19</th>\n",
       "      <th>Unnamed: 20</th>\n",
       "    </tr>\n",
       "  </thead>\n",
       "  <tbody>\n",
       "    <tr>\n",
       "      <th>0</th>\n",
       "      <td>56026</td>\n",
       "      <td>19874</td>\n",
       "      <td>Moški</td>\n",
       "      <td>NE</td>\n",
       "      <td>0 oseb</td>\n",
       "      <td>Diplomiral</td>\n",
       "      <td>NE</td>\n",
       "      <td>1949.666667</td>\n",
       "      <td>1.0</td>\n",
       "      <td>33xx</td>\n",
       "      <td>...</td>\n",
       "      <td>5 let</td>\n",
       "      <td>STANOVANJSKI KREDIT</td>\n",
       "      <td>NaN</td>\n",
       "      <td>90.0</td>\n",
       "      <td>1.42%</td>\n",
       "      <td>NaN</td>\n",
       "      <td>prenova</td>\n",
       "      <td>Y</td>\n",
       "      <td>NaN</td>\n",
       "      <td>NaN</td>\n",
       "    </tr>\n",
       "    <tr>\n",
       "      <th>1</th>\n",
       "      <td>53884</td>\n",
       "      <td>34258</td>\n",
       "      <td>Moški</td>\n",
       "      <td>DA</td>\n",
       "      <td>1 oseba</td>\n",
       "      <td>Diplomiral</td>\n",
       "      <td>NE</td>\n",
       "      <td>1527.666667</td>\n",
       "      <td>1.0</td>\n",
       "      <td>64xx</td>\n",
       "      <td>...</td>\n",
       "      <td>10+ let</td>\n",
       "      <td>NAJEM</td>\n",
       "      <td>44800.0</td>\n",
       "      <td>90.0</td>\n",
       "      <td>3.90%</td>\n",
       "      <td>NaN</td>\n",
       "      <td>drugo</td>\n",
       "      <td>N</td>\n",
       "      <td>NaN</td>\n",
       "      <td>NaN</td>\n",
       "    </tr>\n",
       "    <tr>\n",
       "      <th>2</th>\n",
       "      <td>48350</td>\n",
       "      <td>66552</td>\n",
       "      <td>Moški</td>\n",
       "      <td>DA</td>\n",
       "      <td>0 oseb</td>\n",
       "      <td>Brez diplome</td>\n",
       "      <td>NE</td>\n",
       "      <td>861.000000</td>\n",
       "      <td>1.0</td>\n",
       "      <td>30xx</td>\n",
       "      <td>...</td>\n",
       "      <td>3 leta</td>\n",
       "      <td>NAJEM</td>\n",
       "      <td>42000.0</td>\n",
       "      <td>90.0</td>\n",
       "      <td>2.80%</td>\n",
       "      <td>NaN</td>\n",
       "      <td>NaN</td>\n",
       "      <td>Y</td>\n",
       "      <td>NaN</td>\n",
       "      <td>NaN</td>\n",
       "    </tr>\n",
       "    <tr>\n",
       "      <th>3</th>\n",
       "      <td>30455</td>\n",
       "      <td>54844</td>\n",
       "      <td>Moški</td>\n",
       "      <td>DA</td>\n",
       "      <td>2 osebi</td>\n",
       "      <td>Diplomiral</td>\n",
       "      <td>NE</td>\n",
       "      <td>1066.666667</td>\n",
       "      <td>1.0</td>\n",
       "      <td>84xx</td>\n",
       "      <td>...</td>\n",
       "      <td>1 leto</td>\n",
       "      <td>NAJEM</td>\n",
       "      <td>24500.0</td>\n",
       "      <td>90.0</td>\n",
       "      <td>3.26%</td>\n",
       "      <td>NaN</td>\n",
       "      <td>NaN</td>\n",
       "      <td>Y</td>\n",
       "      <td>NaN</td>\n",
       "      <td>NaN</td>\n",
       "    </tr>\n",
       "    <tr>\n",
       "      <th>4</th>\n",
       "      <td>935</td>\n",
       "      <td>18820</td>\n",
       "      <td>Moški</td>\n",
       "      <td>DA</td>\n",
       "      <td>2 osebi</td>\n",
       "      <td>Diplomiral</td>\n",
       "      <td>NaN</td>\n",
       "      <td>833.333333</td>\n",
       "      <td>1.0</td>\n",
       "      <td>60xx</td>\n",
       "      <td>...</td>\n",
       "      <td>10+ let</td>\n",
       "      <td>STANOVANJSKI KREDIT</td>\n",
       "      <td>38150.0</td>\n",
       "      <td>90.0</td>\n",
       "      <td>3.26%</td>\n",
       "      <td>NaN</td>\n",
       "      <td>NaN</td>\n",
       "      <td>Y</td>\n",
       "      <td>NaN</td>\n",
       "      <td>NaN</td>\n",
       "    </tr>\n",
       "  </tbody>\n",
       "</table>\n",
       "<p>5 rows × 21 columns</p>\n",
       "</div>"
      ],
      "text/plain": [
       "   LoanID  ApplicantID ApplicantGender ApplicantMarried ApplicantDependents  \\\n",
       "0   56026        19874           Moški               NE              0 oseb   \n",
       "1   53884        34258           Moški               DA             1 oseba   \n",
       "2   48350        66552           Moški               DA              0 oseb   \n",
       "3   30455        54844           Moški               DA             2 osebi   \n",
       "4     935        18820           Moški               DA             2 osebi   \n",
       "\n",
       "  ApplicantEducation ApplicantSelfEmployed  ApplicantIncome  \\\n",
       "0         Diplomiral                    NE      1949.666667   \n",
       "1         Diplomiral                    NE      1527.666667   \n",
       "2       Brez diplome                    NE       861.000000   \n",
       "3         Diplomiral                    NE      1066.666667   \n",
       "4         Diplomiral                   NaN       833.333333   \n",
       "\n",
       "   ApplicantCreditHistory ApplicantZIP  ... ApplicantEmplLength  \\\n",
       "0                     1.0         33xx  ...               5 let   \n",
       "1                     1.0         64xx  ...             10+ let   \n",
       "2                     1.0         30xx  ...              3 leta   \n",
       "3                     1.0         84xx  ...              1 leto   \n",
       "4                     1.0         60xx  ...             10+ let   \n",
       "\n",
       "      ApplicantHomeOwn LoanAmount  LoanTerm  LoanIntRate LoanDesc LoanPurpose  \\\n",
       "0  STANOVANJSKI KREDIT        NaN      90.0        1.42%      NaN     prenova   \n",
       "1                NAJEM    44800.0      90.0        3.90%      NaN       drugo   \n",
       "2                NAJEM    42000.0      90.0        2.80%      NaN         NaN   \n",
       "3                NAJEM    24500.0      90.0        3.26%      NaN         NaN   \n",
       "4  STANOVANJSKI KREDIT    38150.0      90.0        3.26%      NaN         NaN   \n",
       "\n",
       "  LoanApproved Unnamed: 19 Unnamed: 20  \n",
       "0            Y         NaN         NaN  \n",
       "1            N         NaN         NaN  \n",
       "2            Y         NaN         NaN  \n",
       "3            Y         NaN         NaN  \n",
       "4            Y         NaN         NaN  \n",
       "\n",
       "[5 rows x 21 columns]"
      ]
     },
     "execution_count": 2,
     "metadata": {},
     "output_type": "execute_result"
    }
   ],
   "source": [
    "df=pd.read_csv(\"train_df.csv\")\n",
    "df.head()"
   ]
  },
  {
   "cell_type": "code",
   "execution_count": 3,
   "id": "a5e6344f",
   "metadata": {},
   "outputs": [
    {
     "name": "stdout",
     "output_type": "stream",
     "text": [
      "Data columns info: \n",
      "\n",
      "<class 'pandas.core.frame.DataFrame'>\n",
      "RangeIndex: 38767 entries, 0 to 38766\n",
      "Data columns (total 21 columns):\n",
      " #   Column                  Non-Null Count  Dtype  \n",
      "---  ------                  --------------  -----  \n",
      " 0   LoanID                  38767 non-null  int64  \n",
      " 1   ApplicantID             38767 non-null  int64  \n",
      " 2   ApplicantGender         37902 non-null  object \n",
      " 3   ApplicantMarried        38573 non-null  object \n",
      " 4   ApplicantDependents     37775 non-null  object \n",
      " 5   ApplicantEducation      38767 non-null  object \n",
      " 6   ApplicantSelfEmployed   36702 non-null  object \n",
      " 7   ApplicantIncome         38767 non-null  float64\n",
      " 8   ApplicantCreditHistory  35687 non-null  float64\n",
      " 9   ApplicantZIP            38767 non-null  object \n",
      " 10  ApplicantState          38767 non-null  object \n",
      " 11  ApplicantEmplLength     36924 non-null  object \n",
      " 12  ApplicantHomeOwn        38767 non-null  object \n",
      " 13  LoanAmount              37370 non-null  float64\n",
      " 14  LoanTerm                37863 non-null  float64\n",
      " 15  LoanIntRate             38767 non-null  object \n",
      " 16  LoanDesc                1521 non-null   object \n",
      " 17  LoanPurpose             14855 non-null  object \n",
      " 18  LoanApproved            38759 non-null  object \n",
      " 19  Unnamed: 19             15 non-null     object \n",
      " 20  Unnamed: 20             4 non-null      object \n",
      "dtypes: float64(4), int64(2), object(15)\n",
      "memory usage: 6.2+ MB\n"
     ]
    }
   ],
   "source": [
    "print(\"Data columns info: \\n\")\n",
    "df.info(verbose = True)"
   ]
  },
  {
   "cell_type": "code",
   "execution_count": 4,
   "id": "c5a69057",
   "metadata": {},
   "outputs": [
    {
     "data": {
      "text/plain": [
       "LoanID                        0\n",
       "ApplicantID                   0\n",
       "ApplicantGender             865\n",
       "ApplicantMarried            194\n",
       "ApplicantDependents         992\n",
       "ApplicantEducation            0\n",
       "ApplicantSelfEmployed      2065\n",
       "ApplicantIncome               0\n",
       "ApplicantCreditHistory     3080\n",
       "ApplicantZIP                  0\n",
       "ApplicantState                0\n",
       "ApplicantEmplLength        1843\n",
       "ApplicantHomeOwn              0\n",
       "LoanAmount                 1397\n",
       "LoanTerm                    904\n",
       "LoanIntRate                   0\n",
       "LoanDesc                  37246\n",
       "LoanPurpose               23912\n",
       "LoanApproved                  8\n",
       "Unnamed: 19               38752\n",
       "Unnamed: 20               38763\n",
       "dtype: int64"
      ]
     },
     "execution_count": 4,
     "metadata": {},
     "output_type": "execute_result"
    }
   ],
   "source": [
    "df.isnull().sum()"
   ]
  },
  {
   "cell_type": "code",
   "execution_count": 5,
   "id": "1c32f70d",
   "metadata": {},
   "outputs": [
    {
     "data": {
      "text/plain": [
       "False"
      ]
     },
     "execution_count": 5,
     "metadata": {},
     "output_type": "execute_result"
    }
   ],
   "source": [
    "df.duplicated().any()"
   ]
  },
  {
   "cell_type": "code",
   "execution_count": 6,
   "id": "7f164a62",
   "metadata": {},
   "outputs": [],
   "source": [
    "df['ApplicantGender']=df['ApplicantGender'].fillna(\"Unkown\")\n",
    "df['ApplicantGender'].unique()\n",
    "df['ApplicantMarried'].fillna(df['ApplicantMarried'].mode()[0], inplace=True)\n",
    "df['ApplicantDependents'].fillna(df['ApplicantDependents'].mode()[0], inplace=True)\n",
    "df['ApplicantSelfEmployed'].fillna(df['ApplicantSelfEmployed'].mode()[0], inplace=True)\n",
    "df['ApplicantCreditHistory'].fillna(df['ApplicantCreditHistory'].mode()[0],inplace=True)\n",
    "df['ApplicantEmplLength'].fillna(df['ApplicantEmplLength'].mode()[0], inplace=True)\n",
    "df['LoanAmount'].fillna(df['LoanAmount'].mode()[0],inplace=True)\n",
    "df['LoanTerm'].fillna(df['LoanTerm'].mode()[0], inplace=True)\n",
    "\n",
    "df.drop(['LoanPurpose', 'LoanDesc','ApplicantState','LoanID','ApplicantID'], axis=1, inplace=True)"
   ]
  },
  {
   "cell_type": "code",
   "execution_count": 7,
   "id": "eadc423c",
   "metadata": {},
   "outputs": [
    {
     "data": {
      "text/plain": [
       "ApplicantGender               0\n",
       "ApplicantMarried              0\n",
       "ApplicantDependents           0\n",
       "ApplicantEducation            0\n",
       "ApplicantSelfEmployed         0\n",
       "ApplicantIncome               0\n",
       "ApplicantCreditHistory        0\n",
       "ApplicantZIP                  0\n",
       "ApplicantEmplLength           0\n",
       "ApplicantHomeOwn              0\n",
       "LoanAmount                    0\n",
       "LoanTerm                      0\n",
       "LoanIntRate                   0\n",
       "LoanApproved                  8\n",
       "Unnamed: 19               38752\n",
       "Unnamed: 20               38763\n",
       "dtype: int64"
      ]
     },
     "execution_count": 7,
     "metadata": {},
     "output_type": "execute_result"
    }
   ],
   "source": [
    "df.isnull().sum()"
   ]
  },
  {
   "cell_type": "code",
   "execution_count": 8,
   "id": "839978e9",
   "metadata": {},
   "outputs": [
    {
     "data": {
      "text/plain": [
       "ApplicantGender            object\n",
       "ApplicantMarried           object\n",
       "ApplicantDependents        object\n",
       "ApplicantEducation         object\n",
       "ApplicantSelfEmployed      object\n",
       "ApplicantIncome           float64\n",
       "ApplicantCreditHistory    float64\n",
       "ApplicantZIP               object\n",
       "ApplicantEmplLength        object\n",
       "ApplicantHomeOwn           object\n",
       "LoanAmount                float64\n",
       "LoanTerm                  float64\n",
       "LoanIntRate                object\n",
       "LoanApproved               object\n",
       "Unnamed: 19                object\n",
       "Unnamed: 20                object\n",
       "dtype: object"
      ]
     },
     "execution_count": 8,
     "metadata": {},
     "output_type": "execute_result"
    }
   ],
   "source": [
    "df.dtypes"
   ]
  },
  {
   "cell_type": "code",
   "execution_count": 9,
   "id": "89472117",
   "metadata": {},
   "outputs": [
    {
     "data": {
      "text/plain": [
       "ApplicantGender            object\n",
       "ApplicantMarried           object\n",
       "ApplicantDependents         int64\n",
       "ApplicantEducation         object\n",
       "ApplicantSelfEmployed      object\n",
       "ApplicantIncome           float64\n",
       "ApplicantCreditHistory    float64\n",
       "ApplicantZIP               object\n",
       "ApplicantEmplLength       float64\n",
       "ApplicantHomeOwn           object\n",
       "LoanAmount                float64\n",
       "LoanTerm                  float64\n",
       "LoanIntRate               float64\n",
       "LoanApproved               object\n",
       "Unnamed: 19                object\n",
       "Unnamed: 20                object\n",
       "dtype: object"
      ]
     },
     "execution_count": 9,
     "metadata": {},
     "output_type": "execute_result"
    }
   ],
   "source": [
    "df.replace({ 'ApplicantDependents':{'0 oseb':0,'1 oseba':1,'2 osebi':2, '3+ osebe':3},\n",
    "             'ApplicantEmplLength':{'1 leto':1,'2 leti':2,'< 1 leto':0.5,'3 leta':3, '4 leta':4,'5 let':5,'6 let':6,'7 let':7,'8 let':8,'9 let':9,'10+ let':10}},inplace=True)\n",
    "\n",
    "df['LoanIntRate'] = df['LoanIntRate'].str.replace('%','')\n",
    "def converting(x):\n",
    "    return float(x)/100\n",
    "df['LoanIntRate']=df['LoanIntRate'].map(converting)\n",
    "\n",
    "df.dtypes"
   ]
  },
  {
   "cell_type": "code",
   "execution_count": 10,
   "id": "99e7b301",
   "metadata": {},
   "outputs": [],
   "source": [
    "categorical_cols = [\"ApplicantGender\", \"ApplicantMarried\", \"ApplicantEducation\", \"ApplicantSelfEmployed\",\n",
    "                    \"ApplicantHomeOwn\", \"ApplicantZIP\",\"LoanApproved\"]\n",
    "\n",
    "continous_cols = [ \"ApplicantDependents\",\n",
    "                  \"ApplicantIncome\", \"ApplicantCreditHistory\", \"ApplicantEmplLength\",\"LoanAmount\"\n",
    "                 ,\"LoanTerm\",\"LoanIntRate\"]\n",
    "\n",
    "for col in categorical_cols:\n",
    "    df[col] = df[col].astype(\"category\")\n",
    "    \n",
    "for col in continous_cols:\n",
    "    df[col] = df[col].astype(\"int16\")"
   ]
  },
  {
   "cell_type": "code",
   "execution_count": 11,
   "id": "89ea3f21",
   "metadata": {},
   "outputs": [
    {
     "data": {
      "text/plain": [
       "ApplicantGender           category\n",
       "ApplicantMarried          category\n",
       "ApplicantDependents          int16\n",
       "ApplicantEducation        category\n",
       "ApplicantSelfEmployed     category\n",
       "ApplicantIncome              int16\n",
       "ApplicantCreditHistory       int16\n",
       "ApplicantZIP              category\n",
       "ApplicantEmplLength          int16\n",
       "ApplicantHomeOwn          category\n",
       "LoanAmount                   int16\n",
       "LoanTerm                     int16\n",
       "LoanIntRate                  int16\n",
       "LoanApproved              category\n",
       "Unnamed: 19                 object\n",
       "Unnamed: 20                 object\n",
       "dtype: object"
      ]
     },
     "execution_count": 11,
     "metadata": {},
     "output_type": "execute_result"
    }
   ],
   "source": [
    "df.dtypes"
   ]
  },
  {
   "cell_type": "code",
   "execution_count": 12,
   "id": "bb3035e2",
   "metadata": {},
   "outputs": [
    {
     "name": "stdout",
     "output_type": "stream",
     "text": [
      "Unique values of ApplicantGender column is : ['Moški', 'Unkown', 'Ženska']\n",
      "Unique values of ApplicantMarried column is : ['NE', 'DA']\n",
      "Unique values of ApplicantEducation column is : ['Diplomiral', 'Brez diplome']\n",
      "Unique values of ApplicantSelfEmployed column is : ['NE', 'DA']\n",
      "Unique values of ApplicantHomeOwn column is : ['STANOVANJSKI KREDIT', 'NAJEM', 'LASTNO']\n",
      "Unique values of ApplicantZIP column is : ['33xx', '64xx', '30xx', '84xx', '60xx', '62xx', '11xx', '20xx', '63xx', '53xx', '74xx', '44xx', '43xx', '23xx', '41xx', '80xx', '40xx', '32xx', '21xx', '03xx', '02xx', '72xx', '24xx', '14xx', '10xx', '13xx', '34xx', '12xx', '22xx', '70xx', '54xx', '01xx', '71xx', '31xx', '81xx', '73xx', '61xx', '42xx', '82xx', '52xx', '83xx', '00xx', '51xx', '04xx']\n",
      "Unique values of LoanApproved column is : ['Y', 'N', nan, ' sklad. <br>', 'kartica', 'air za hi\\x9ao <br>', 'prenova', ' prebarvanje izven hi\\x9ae in prebarvanje celotno notranjost hi\\x9ae <br>Izjemna terasa in postavite terasa pokrov <br>Polo\\x9eite ograjo ob zadnji nepremièninski liniji<br>', ' Bealls Dept trgovina. Raèun za popravilo strehe. <br>']\n"
     ]
    }
   ],
   "source": [
    "for col in categorical_cols:\n",
    "    print(f\"Unique values of {col} column is : {list(df[col].unique())}\")"
   ]
  },
  {
   "cell_type": "code",
   "execution_count": 13,
   "id": "4c92e20c",
   "metadata": {},
   "outputs": [],
   "source": [
    "def one_hot_encode(data, cols, postfix= \"_new\") -> pd.DataFrame:\n",
    "   \n",
    "    global new_cols\n",
    "    new_cols = [col + \"_new\" for col in cols]\n",
    "    \n",
    "    for new_col, col in zip(new_cols, cols):\n",
    "        data[new_col] = data[col].cat.codes\n",
    "        \n",
    "    data = data.drop(cols, axis= 1)\n",
    "    return data\n",
    "\n",
    "df = one_hot_encode(df, categorical_cols)"
   ]
  },
  {
   "cell_type": "code",
   "execution_count": 14,
   "id": "76664227",
   "metadata": {},
   "outputs": [
    {
     "name": "stdout",
     "output_type": "stream",
     "text": [
      "Unique values for ApplicantGender_new column after one hot encoding is: [0, 1, 2]\n",
      "Unique values for ApplicantMarried_new column after one hot encoding is: [1, 0]\n",
      "Unique values for ApplicantEducation_new column after one hot encoding is: [1, 0]\n",
      "Unique values for ApplicantSelfEmployed_new column after one hot encoding is: [1, 0]\n",
      "Unique values for ApplicantHomeOwn_new column after one hot encoding is: [2, 1, 0]\n",
      "Unique values for ApplicantZIP_new column after one hot encoding is: [18, 33, 15, 43, 29, 31, 6, 10, 32, 27, 38, 24, 23, 13, 21, 39, 20, 17, 11, 3, 2, 36, 14, 9, 5, 8, 19, 7, 12, 34, 28, 1, 35, 16, 40, 37, 30, 22, 41, 26, 42, 0, 25, 4]\n",
      "Unique values for LoanApproved_new column after one hot encoding is: [4, 3, -1, 2, 6, 5, 7, 1, 0]\n"
     ]
    }
   ],
   "source": [
    "for col in new_cols:\n",
    "    print(f\"Unique values for {col} column after \"+ \\\n",
    "          f\"one hot encoding is: {list(df[col].unique())}\")"
   ]
  },
  {
   "cell_type": "code",
   "execution_count": 15,
   "id": "b7b7c879",
   "metadata": {},
   "outputs": [],
   "source": [
    "def z_score(df: pd.DataFrame, col_name: str) -> pd.DataFrame:\n",
    " \n",
    "    \n",
    "    std: np.float16 = np.float16(df[col_name].std())\n",
    "    mean: np.float16 = np.float16(df[col_name].mean())\n",
    "    \n",
    "    upper_limit = mean + (3 * std)\n",
    "    lower_limit = mean - (3 * std)\n",
    "    \n",
    "    outliers_free = [value for value in df[col_name] if \n",
    "                  not((value > upper_limit) | (value < lower_limit))]\n",
    "    \n",
    "\n",
    "    filtered_data = df.loc[df[col_name].isin(outliers_free)]\n",
    "    \n",
    "    \n",
    "    return filtered_data"
   ]
  },
  {
   "cell_type": "code",
   "execution_count": 16,
   "id": "85f5b675",
   "metadata": {},
   "outputs": [
    {
     "name": "stdout",
     "output_type": "stream",
     "text": [
      "       ApplicantDependents  ApplicantIncome  ApplicantCreditHistory  \\\n",
      "0                        0             1949                       1   \n",
      "1                        1             1527                       1   \n",
      "2                        0              861                       1   \n",
      "3                        2             1066                       1   \n",
      "4                        2              833                       1   \n",
      "...                    ...              ...                     ...   \n",
      "38762                    1              873                       1   \n",
      "38763                    0             3107                       1   \n",
      "38764                    0              800                       0   \n",
      "38765                    3             1365                       1   \n",
      "38766                    2               70                       1   \n",
      "\n",
      "       ApplicantEmplLength  LoanAmount  LoanTerm  LoanIntRate Unnamed: 19  \\\n",
      "0                        5      -23536        90            0         NaN   \n",
      "1                       10      -20736        90            0         NaN   \n",
      "2                        3      -23536        90            0         NaN   \n",
      "3                        1       24500        90            0         NaN   \n",
      "4                       10      -27386        90            0         NaN   \n",
      "...                    ...         ...       ...          ...         ...   \n",
      "38762                   10       -7786        90            0         NaN   \n",
      "38763                    3       17500        90            0         NaN   \n",
      "38764                    2       -6736        90            0         NaN   \n",
      "38765                    3      -22486       120            0         NaN   \n",
      "38766                    3      -21786        90            0         NaN   \n",
      "\n",
      "      Unnamed: 20  ApplicantGender_new  ApplicantMarried_new  \\\n",
      "0             NaN                    0                     1   \n",
      "1             NaN                    0                     0   \n",
      "2             NaN                    0                     0   \n",
      "3             NaN                    0                     0   \n",
      "4             NaN                    0                     0   \n",
      "...           ...                  ...                   ...   \n",
      "38762         NaN                    1                     0   \n",
      "38763         NaN                    0                     1   \n",
      "38764         NaN                    2                     0   \n",
      "38765         NaN                    0                     0   \n",
      "38766         NaN                    0                     0   \n",
      "\n",
      "       ApplicantEducation_new  ApplicantSelfEmployed_new  \\\n",
      "0                           1                          1   \n",
      "1                           1                          1   \n",
      "2                           0                          1   \n",
      "3                           1                          1   \n",
      "4                           1                          1   \n",
      "...                       ...                        ...   \n",
      "38762                       1                          1   \n",
      "38763                       1                          1   \n",
      "38764                       1                          0   \n",
      "38765                       1                          1   \n",
      "38766                       0                          1   \n",
      "\n",
      "       ApplicantHomeOwn_new  ApplicantZIP_new  \n",
      "0                         2                18  \n",
      "1                         1                33  \n",
      "2                         1                15  \n",
      "3                         1                43  \n",
      "4                         2                29  \n",
      "...                     ...               ...  \n",
      "38762                     1                 9  \n",
      "38763                     2                32  \n",
      "38764                     0                22  \n",
      "38765                     2                43  \n",
      "38766                     1                18  \n",
      "\n",
      "[38767 rows x 15 columns]\n",
      "0        4\n",
      "1        3\n",
      "2        4\n",
      "3        4\n",
      "4        4\n",
      "        ..\n",
      "38762    4\n",
      "38763    4\n",
      "38764    3\n",
      "38765    4\n",
      "38766    4\n",
      "Name: LoanApproved_new, Length: 38767, dtype: int8\n"
     ]
    }
   ],
   "source": [
    "X=df.drop(columns=['LoanApproved_new'],axis=1)\n",
    "print(X)\n",
    "\n",
    "y=df['LoanApproved_new']\n",
    "print(y)"
   ]
  },
  {
   "cell_type": "code",
   "execution_count": 17,
   "id": "7a304bb0",
   "metadata": {},
   "outputs": [],
   "source": [
    "from sklearn.model_selection import train_test_split\n",
    "from sklearn.metrics import f1_score\n",
    "from sklearn.model_selection import GridSearchCV\n",
    "from sklearn.tree import DecisionTreeClassifier\n",
    "from sklearn.linear_model import LogisticRegression\n",
    "from sklearn.ensemble import RandomForestClassifier\n",
    "X_train, X_test, y_train, y_test = train_test_split(X, y, test_size=0.20, random_state=0)"
   ]
  },
  {
   "cell_type": "code",
   "execution_count": 18,
   "id": "3b278579",
   "metadata": {},
   "outputs": [
    {
     "ename": "ValueError",
     "evalue": "could not convert string to float: 'prenova'",
     "output_type": "error",
     "traceback": [
      "\u001b[0;31m---------------------------------------------------------------------------\u001b[0m",
      "\u001b[0;31mValueError\u001b[0m                                Traceback (most recent call last)",
      "\u001b[0;32m/tmp/ipykernel_22418/3939621116.py\u001b[0m in \u001b[0;36m<module>\u001b[0;34m\u001b[0m\n\u001b[1;32m      1\u001b[0m \u001b[0mmodel\u001b[0m \u001b[0;34m=\u001b[0m \u001b[0mLogisticRegression\u001b[0m\u001b[0;34m(\u001b[0m\u001b[0;34m)\u001b[0m\u001b[0;34m\u001b[0m\u001b[0;34m\u001b[0m\u001b[0m\n\u001b[0;32m----> 2\u001b[0;31m \u001b[0mmodel\u001b[0m\u001b[0;34m.\u001b[0m\u001b[0mfit\u001b[0m\u001b[0;34m(\u001b[0m\u001b[0mX_train\u001b[0m\u001b[0;34m,\u001b[0m \u001b[0my_train\u001b[0m\u001b[0;34m)\u001b[0m\u001b[0;34m\u001b[0m\u001b[0;34m\u001b[0m\u001b[0m\n\u001b[0m\u001b[1;32m      3\u001b[0m \u001b[0mprint\u001b[0m\u001b[0;34m(\u001b[0m\u001b[0mtype\u001b[0m\u001b[0;34m(\u001b[0m\u001b[0mX_test\u001b[0m\u001b[0;34m)\u001b[0m\u001b[0;34m)\u001b[0m\u001b[0;34m\u001b[0m\u001b[0;34m\u001b[0m\u001b[0m\n\u001b[1;32m      4\u001b[0m \u001b[0mypred\u001b[0m \u001b[0;34m=\u001b[0m \u001b[0mmodel\u001b[0m\u001b[0;34m.\u001b[0m\u001b[0mpredict\u001b[0m\u001b[0;34m(\u001b[0m\u001b[0mX_test\u001b[0m\u001b[0;34m)\u001b[0m\u001b[0;34m\u001b[0m\u001b[0;34m\u001b[0m\u001b[0m\n\u001b[1;32m      5\u001b[0m \u001b[0;34m\u001b[0m\u001b[0m\n",
      "\u001b[0;32m~/anaconda3/lib/python3.9/site-packages/sklearn/linear_model/_logistic.py\u001b[0m in \u001b[0;36mfit\u001b[0;34m(self, X, y, sample_weight)\u001b[0m\n\u001b[1;32m   1342\u001b[0m             \u001b[0m_dtype\u001b[0m \u001b[0;34m=\u001b[0m \u001b[0;34m[\u001b[0m\u001b[0mnp\u001b[0m\u001b[0;34m.\u001b[0m\u001b[0mfloat64\u001b[0m\u001b[0;34m,\u001b[0m \u001b[0mnp\u001b[0m\u001b[0;34m.\u001b[0m\u001b[0mfloat32\u001b[0m\u001b[0;34m]\u001b[0m\u001b[0;34m\u001b[0m\u001b[0;34m\u001b[0m\u001b[0m\n\u001b[1;32m   1343\u001b[0m \u001b[0;34m\u001b[0m\u001b[0m\n\u001b[0;32m-> 1344\u001b[0;31m         X, y = self._validate_data(X, y, accept_sparse='csr', dtype=_dtype,\n\u001b[0m\u001b[1;32m   1345\u001b[0m                                    \u001b[0morder\u001b[0m\u001b[0;34m=\u001b[0m\u001b[0;34m\"C\"\u001b[0m\u001b[0;34m,\u001b[0m\u001b[0;34m\u001b[0m\u001b[0;34m\u001b[0m\u001b[0m\n\u001b[1;32m   1346\u001b[0m                                    accept_large_sparse=solver != 'liblinear')\n",
      "\u001b[0;32m~/anaconda3/lib/python3.9/site-packages/sklearn/base.py\u001b[0m in \u001b[0;36m_validate_data\u001b[0;34m(self, X, y, reset, validate_separately, **check_params)\u001b[0m\n\u001b[1;32m    431\u001b[0m                 \u001b[0my\u001b[0m \u001b[0;34m=\u001b[0m \u001b[0mcheck_array\u001b[0m\u001b[0;34m(\u001b[0m\u001b[0my\u001b[0m\u001b[0;34m,\u001b[0m \u001b[0;34m**\u001b[0m\u001b[0mcheck_y_params\u001b[0m\u001b[0;34m)\u001b[0m\u001b[0;34m\u001b[0m\u001b[0;34m\u001b[0m\u001b[0m\n\u001b[1;32m    432\u001b[0m             \u001b[0;32melse\u001b[0m\u001b[0;34m:\u001b[0m\u001b[0;34m\u001b[0m\u001b[0;34m\u001b[0m\u001b[0m\n\u001b[0;32m--> 433\u001b[0;31m                 \u001b[0mX\u001b[0m\u001b[0;34m,\u001b[0m \u001b[0my\u001b[0m \u001b[0;34m=\u001b[0m \u001b[0mcheck_X_y\u001b[0m\u001b[0;34m(\u001b[0m\u001b[0mX\u001b[0m\u001b[0;34m,\u001b[0m \u001b[0my\u001b[0m\u001b[0;34m,\u001b[0m \u001b[0;34m**\u001b[0m\u001b[0mcheck_params\u001b[0m\u001b[0;34m)\u001b[0m\u001b[0;34m\u001b[0m\u001b[0;34m\u001b[0m\u001b[0m\n\u001b[0m\u001b[1;32m    434\u001b[0m             \u001b[0mout\u001b[0m \u001b[0;34m=\u001b[0m \u001b[0mX\u001b[0m\u001b[0;34m,\u001b[0m \u001b[0my\u001b[0m\u001b[0;34m\u001b[0m\u001b[0;34m\u001b[0m\u001b[0m\n\u001b[1;32m    435\u001b[0m \u001b[0;34m\u001b[0m\u001b[0m\n",
      "\u001b[0;32m~/anaconda3/lib/python3.9/site-packages/sklearn/utils/validation.py\u001b[0m in \u001b[0;36minner_f\u001b[0;34m(*args, **kwargs)\u001b[0m\n\u001b[1;32m     61\u001b[0m             \u001b[0mextra_args\u001b[0m \u001b[0;34m=\u001b[0m \u001b[0mlen\u001b[0m\u001b[0;34m(\u001b[0m\u001b[0margs\u001b[0m\u001b[0;34m)\u001b[0m \u001b[0;34m-\u001b[0m \u001b[0mlen\u001b[0m\u001b[0;34m(\u001b[0m\u001b[0mall_args\u001b[0m\u001b[0;34m)\u001b[0m\u001b[0;34m\u001b[0m\u001b[0;34m\u001b[0m\u001b[0m\n\u001b[1;32m     62\u001b[0m             \u001b[0;32mif\u001b[0m \u001b[0mextra_args\u001b[0m \u001b[0;34m<=\u001b[0m \u001b[0;36m0\u001b[0m\u001b[0;34m:\u001b[0m\u001b[0;34m\u001b[0m\u001b[0;34m\u001b[0m\u001b[0m\n\u001b[0;32m---> 63\u001b[0;31m                 \u001b[0;32mreturn\u001b[0m \u001b[0mf\u001b[0m\u001b[0;34m(\u001b[0m\u001b[0;34m*\u001b[0m\u001b[0margs\u001b[0m\u001b[0;34m,\u001b[0m \u001b[0;34m**\u001b[0m\u001b[0mkwargs\u001b[0m\u001b[0;34m)\u001b[0m\u001b[0;34m\u001b[0m\u001b[0;34m\u001b[0m\u001b[0m\n\u001b[0m\u001b[1;32m     64\u001b[0m \u001b[0;34m\u001b[0m\u001b[0m\n\u001b[1;32m     65\u001b[0m             \u001b[0;31m# extra_args > 0\u001b[0m\u001b[0;34m\u001b[0m\u001b[0;34m\u001b[0m\u001b[0m\n",
      "\u001b[0;32m~/anaconda3/lib/python3.9/site-packages/sklearn/utils/validation.py\u001b[0m in \u001b[0;36mcheck_X_y\u001b[0;34m(X, y, accept_sparse, accept_large_sparse, dtype, order, copy, force_all_finite, ensure_2d, allow_nd, multi_output, ensure_min_samples, ensure_min_features, y_numeric, estimator)\u001b[0m\n\u001b[1;32m    869\u001b[0m         \u001b[0;32mraise\u001b[0m \u001b[0mValueError\u001b[0m\u001b[0;34m(\u001b[0m\u001b[0;34m\"y cannot be None\"\u001b[0m\u001b[0;34m)\u001b[0m\u001b[0;34m\u001b[0m\u001b[0;34m\u001b[0m\u001b[0m\n\u001b[1;32m    870\u001b[0m \u001b[0;34m\u001b[0m\u001b[0m\n\u001b[0;32m--> 871\u001b[0;31m     X = check_array(X, accept_sparse=accept_sparse,\n\u001b[0m\u001b[1;32m    872\u001b[0m                     \u001b[0maccept_large_sparse\u001b[0m\u001b[0;34m=\u001b[0m\u001b[0maccept_large_sparse\u001b[0m\u001b[0;34m,\u001b[0m\u001b[0;34m\u001b[0m\u001b[0;34m\u001b[0m\u001b[0m\n\u001b[1;32m    873\u001b[0m                     \u001b[0mdtype\u001b[0m\u001b[0;34m=\u001b[0m\u001b[0mdtype\u001b[0m\u001b[0;34m,\u001b[0m \u001b[0morder\u001b[0m\u001b[0;34m=\u001b[0m\u001b[0morder\u001b[0m\u001b[0;34m,\u001b[0m \u001b[0mcopy\u001b[0m\u001b[0;34m=\u001b[0m\u001b[0mcopy\u001b[0m\u001b[0;34m,\u001b[0m\u001b[0;34m\u001b[0m\u001b[0;34m\u001b[0m\u001b[0m\n",
      "\u001b[0;32m~/anaconda3/lib/python3.9/site-packages/sklearn/utils/validation.py\u001b[0m in \u001b[0;36minner_f\u001b[0;34m(*args, **kwargs)\u001b[0m\n\u001b[1;32m     61\u001b[0m             \u001b[0mextra_args\u001b[0m \u001b[0;34m=\u001b[0m \u001b[0mlen\u001b[0m\u001b[0;34m(\u001b[0m\u001b[0margs\u001b[0m\u001b[0;34m)\u001b[0m \u001b[0;34m-\u001b[0m \u001b[0mlen\u001b[0m\u001b[0;34m(\u001b[0m\u001b[0mall_args\u001b[0m\u001b[0;34m)\u001b[0m\u001b[0;34m\u001b[0m\u001b[0;34m\u001b[0m\u001b[0m\n\u001b[1;32m     62\u001b[0m             \u001b[0;32mif\u001b[0m \u001b[0mextra_args\u001b[0m \u001b[0;34m<=\u001b[0m \u001b[0;36m0\u001b[0m\u001b[0;34m:\u001b[0m\u001b[0;34m\u001b[0m\u001b[0;34m\u001b[0m\u001b[0m\n\u001b[0;32m---> 63\u001b[0;31m                 \u001b[0;32mreturn\u001b[0m \u001b[0mf\u001b[0m\u001b[0;34m(\u001b[0m\u001b[0;34m*\u001b[0m\u001b[0margs\u001b[0m\u001b[0;34m,\u001b[0m \u001b[0;34m**\u001b[0m\u001b[0mkwargs\u001b[0m\u001b[0;34m)\u001b[0m\u001b[0;34m\u001b[0m\u001b[0;34m\u001b[0m\u001b[0m\n\u001b[0m\u001b[1;32m     64\u001b[0m \u001b[0;34m\u001b[0m\u001b[0m\n\u001b[1;32m     65\u001b[0m             \u001b[0;31m# extra_args > 0\u001b[0m\u001b[0;34m\u001b[0m\u001b[0;34m\u001b[0m\u001b[0m\n",
      "\u001b[0;32m~/anaconda3/lib/python3.9/site-packages/sklearn/utils/validation.py\u001b[0m in \u001b[0;36mcheck_array\u001b[0;34m(array, accept_sparse, accept_large_sparse, dtype, order, copy, force_all_finite, ensure_2d, allow_nd, ensure_min_samples, ensure_min_features, estimator)\u001b[0m\n\u001b[1;32m    671\u001b[0m                     \u001b[0marray\u001b[0m \u001b[0;34m=\u001b[0m \u001b[0marray\u001b[0m\u001b[0;34m.\u001b[0m\u001b[0mastype\u001b[0m\u001b[0;34m(\u001b[0m\u001b[0mdtype\u001b[0m\u001b[0;34m,\u001b[0m \u001b[0mcasting\u001b[0m\u001b[0;34m=\u001b[0m\u001b[0;34m\"unsafe\"\u001b[0m\u001b[0;34m,\u001b[0m \u001b[0mcopy\u001b[0m\u001b[0;34m=\u001b[0m\u001b[0;32mFalse\u001b[0m\u001b[0;34m)\u001b[0m\u001b[0;34m\u001b[0m\u001b[0;34m\u001b[0m\u001b[0m\n\u001b[1;32m    672\u001b[0m                 \u001b[0;32melse\u001b[0m\u001b[0;34m:\u001b[0m\u001b[0;34m\u001b[0m\u001b[0;34m\u001b[0m\u001b[0m\n\u001b[0;32m--> 673\u001b[0;31m                     \u001b[0marray\u001b[0m \u001b[0;34m=\u001b[0m \u001b[0mnp\u001b[0m\u001b[0;34m.\u001b[0m\u001b[0masarray\u001b[0m\u001b[0;34m(\u001b[0m\u001b[0marray\u001b[0m\u001b[0;34m,\u001b[0m \u001b[0morder\u001b[0m\u001b[0;34m=\u001b[0m\u001b[0morder\u001b[0m\u001b[0;34m,\u001b[0m \u001b[0mdtype\u001b[0m\u001b[0;34m=\u001b[0m\u001b[0mdtype\u001b[0m\u001b[0;34m)\u001b[0m\u001b[0;34m\u001b[0m\u001b[0;34m\u001b[0m\u001b[0m\n\u001b[0m\u001b[1;32m    674\u001b[0m             \u001b[0;32mexcept\u001b[0m \u001b[0mComplexWarning\u001b[0m \u001b[0;32mas\u001b[0m \u001b[0mcomplex_warning\u001b[0m\u001b[0;34m:\u001b[0m\u001b[0;34m\u001b[0m\u001b[0;34m\u001b[0m\u001b[0m\n\u001b[1;32m    675\u001b[0m                 raise ValueError(\"Complex data not supported\\n\"\n",
      "\u001b[0;32m~/anaconda3/lib/python3.9/site-packages/numpy/core/_asarray.py\u001b[0m in \u001b[0;36masarray\u001b[0;34m(a, dtype, order, like)\u001b[0m\n\u001b[1;32m    100\u001b[0m         \u001b[0;32mreturn\u001b[0m \u001b[0m_asarray_with_like\u001b[0m\u001b[0;34m(\u001b[0m\u001b[0ma\u001b[0m\u001b[0;34m,\u001b[0m \u001b[0mdtype\u001b[0m\u001b[0;34m=\u001b[0m\u001b[0mdtype\u001b[0m\u001b[0;34m,\u001b[0m \u001b[0morder\u001b[0m\u001b[0;34m=\u001b[0m\u001b[0morder\u001b[0m\u001b[0;34m,\u001b[0m \u001b[0mlike\u001b[0m\u001b[0;34m=\u001b[0m\u001b[0mlike\u001b[0m\u001b[0;34m)\u001b[0m\u001b[0;34m\u001b[0m\u001b[0;34m\u001b[0m\u001b[0m\n\u001b[1;32m    101\u001b[0m \u001b[0;34m\u001b[0m\u001b[0m\n\u001b[0;32m--> 102\u001b[0;31m     \u001b[0;32mreturn\u001b[0m \u001b[0marray\u001b[0m\u001b[0;34m(\u001b[0m\u001b[0ma\u001b[0m\u001b[0;34m,\u001b[0m \u001b[0mdtype\u001b[0m\u001b[0;34m,\u001b[0m \u001b[0mcopy\u001b[0m\u001b[0;34m=\u001b[0m\u001b[0;32mFalse\u001b[0m\u001b[0;34m,\u001b[0m \u001b[0morder\u001b[0m\u001b[0;34m=\u001b[0m\u001b[0morder\u001b[0m\u001b[0;34m)\u001b[0m\u001b[0;34m\u001b[0m\u001b[0;34m\u001b[0m\u001b[0m\n\u001b[0m\u001b[1;32m    103\u001b[0m \u001b[0;34m\u001b[0m\u001b[0m\n\u001b[1;32m    104\u001b[0m \u001b[0;34m\u001b[0m\u001b[0m\n",
      "\u001b[0;32m~/anaconda3/lib/python3.9/site-packages/pandas/core/generic.py\u001b[0m in \u001b[0;36m__array__\u001b[0;34m(self, dtype)\u001b[0m\n\u001b[1;32m   1991\u001b[0m \u001b[0;34m\u001b[0m\u001b[0m\n\u001b[1;32m   1992\u001b[0m     \u001b[0;32mdef\u001b[0m \u001b[0m__array__\u001b[0m\u001b[0;34m(\u001b[0m\u001b[0mself\u001b[0m\u001b[0;34m,\u001b[0m \u001b[0mdtype\u001b[0m\u001b[0;34m:\u001b[0m \u001b[0mNpDtype\u001b[0m \u001b[0;34m|\u001b[0m \u001b[0;32mNone\u001b[0m \u001b[0;34m=\u001b[0m \u001b[0;32mNone\u001b[0m\u001b[0;34m)\u001b[0m \u001b[0;34m->\u001b[0m \u001b[0mnp\u001b[0m\u001b[0;34m.\u001b[0m\u001b[0mndarray\u001b[0m\u001b[0;34m:\u001b[0m\u001b[0;34m\u001b[0m\u001b[0;34m\u001b[0m\u001b[0m\n\u001b[0;32m-> 1993\u001b[0;31m         \u001b[0;32mreturn\u001b[0m \u001b[0mnp\u001b[0m\u001b[0;34m.\u001b[0m\u001b[0masarray\u001b[0m\u001b[0;34m(\u001b[0m\u001b[0mself\u001b[0m\u001b[0;34m.\u001b[0m\u001b[0m_values\u001b[0m\u001b[0;34m,\u001b[0m \u001b[0mdtype\u001b[0m\u001b[0;34m=\u001b[0m\u001b[0mdtype\u001b[0m\u001b[0;34m)\u001b[0m\u001b[0;34m\u001b[0m\u001b[0;34m\u001b[0m\u001b[0m\n\u001b[0m\u001b[1;32m   1994\u001b[0m \u001b[0;34m\u001b[0m\u001b[0m\n\u001b[1;32m   1995\u001b[0m     def __array_wrap__(\n",
      "\u001b[0;32m~/anaconda3/lib/python3.9/site-packages/numpy/core/_asarray.py\u001b[0m in \u001b[0;36masarray\u001b[0;34m(a, dtype, order, like)\u001b[0m\n\u001b[1;32m    100\u001b[0m         \u001b[0;32mreturn\u001b[0m \u001b[0m_asarray_with_like\u001b[0m\u001b[0;34m(\u001b[0m\u001b[0ma\u001b[0m\u001b[0;34m,\u001b[0m \u001b[0mdtype\u001b[0m\u001b[0;34m=\u001b[0m\u001b[0mdtype\u001b[0m\u001b[0;34m,\u001b[0m \u001b[0morder\u001b[0m\u001b[0;34m=\u001b[0m\u001b[0morder\u001b[0m\u001b[0;34m,\u001b[0m \u001b[0mlike\u001b[0m\u001b[0;34m=\u001b[0m\u001b[0mlike\u001b[0m\u001b[0;34m)\u001b[0m\u001b[0;34m\u001b[0m\u001b[0;34m\u001b[0m\u001b[0m\n\u001b[1;32m    101\u001b[0m \u001b[0;34m\u001b[0m\u001b[0m\n\u001b[0;32m--> 102\u001b[0;31m     \u001b[0;32mreturn\u001b[0m \u001b[0marray\u001b[0m\u001b[0;34m(\u001b[0m\u001b[0ma\u001b[0m\u001b[0;34m,\u001b[0m \u001b[0mdtype\u001b[0m\u001b[0;34m,\u001b[0m \u001b[0mcopy\u001b[0m\u001b[0;34m=\u001b[0m\u001b[0;32mFalse\u001b[0m\u001b[0;34m,\u001b[0m \u001b[0morder\u001b[0m\u001b[0;34m=\u001b[0m\u001b[0morder\u001b[0m\u001b[0;34m)\u001b[0m\u001b[0;34m\u001b[0m\u001b[0;34m\u001b[0m\u001b[0m\n\u001b[0m\u001b[1;32m    103\u001b[0m \u001b[0;34m\u001b[0m\u001b[0m\n\u001b[1;32m    104\u001b[0m \u001b[0;34m\u001b[0m\u001b[0m\n",
      "\u001b[0;31mValueError\u001b[0m: could not convert string to float: 'prenova'"
     ]
    }
   ],
   "source": [
    "model = LogisticRegression()\n",
    "model.fit(X_train, y_train)\n",
    "print(type(X_test))\n",
    "ypred = model.predict(X_test)\n",
    "\n",
    "print(ypred)"
   ]
  },
  {
   "cell_type": "code",
   "execution_count": 19,
   "id": "54d26727",
   "metadata": {},
   "outputs": [
    {
     "ename": "NameError",
     "evalue": "name 'ypred' is not defined",
     "output_type": "error",
     "traceback": [
      "\u001b[0;31m---------------------------------------------------------------------------\u001b[0m",
      "\u001b[0;31mNameError\u001b[0m                                 Traceback (most recent call last)",
      "\u001b[0;32m/tmp/ipykernel_22418/3672815170.py\u001b[0m in \u001b[0;36m<module>\u001b[0;34m\u001b[0m\n\u001b[0;32m----> 1\u001b[0;31m \u001b[0maccuracy\u001b[0m \u001b[0;34m=\u001b[0m \u001b[0mf1_score\u001b[0m\u001b[0;34m(\u001b[0m\u001b[0my_test\u001b[0m\u001b[0;34m,\u001b[0m \u001b[0mypred\u001b[0m\u001b[0;34m)\u001b[0m\u001b[0;34m\u001b[0m\u001b[0;34m\u001b[0m\u001b[0m\n\u001b[0m\u001b[1;32m      2\u001b[0m \u001b[0maccuracy\u001b[0m\u001b[0;34m\u001b[0m\u001b[0;34m\u001b[0m\u001b[0m\n",
      "\u001b[0;31mNameError\u001b[0m: name 'ypred' is not defined"
     ]
    }
   ],
   "source": [
    "accuracy = f1_score(y_test, ypred)\n",
    "accuracy"
   ]
  },
  {
   "cell_type": "code",
   "execution_count": null,
   "id": "1035188f",
   "metadata": {},
   "outputs": [],
   "source": []
  }
 ],
 "metadata": {
  "kernelspec": {
   "display_name": "Python 3 (ipykernel)",
   "language": "python",
   "name": "python3"
  },
  "language_info": {
   "codemirror_mode": {
    "name": "ipython",
    "version": 3
   },
   "file_extension": ".py",
   "mimetype": "text/x-python",
   "name": "python",
   "nbconvert_exporter": "python",
   "pygments_lexer": "ipython3",
   "version": "3.9.7"
  }
 },
 "nbformat": 4,
 "nbformat_minor": 5
}
